{
 "cells": [
  {
   "cell_type": "markdown",
   "metadata": {},
   "source": [
    "This is a multi-class classification problem. Since ranking of countries in the top 5 predicted matters, the evaluation metric NDCG (Normalized Discounted Cumulative Gain) is utilized for this project.\n",
    "\n",
    "It gives us the measure of ranking quality based on the order of the most relavent document in the result set(ranked). \n",
    "\n",
    "Two assumptions are made in using DCG and its related measures.\n",
    "\n",
    "- Highly relevant documents are more useful when appearing earlier in a search engine result list (have higher ranks)\n",
    "- Highly relevant documents are more useful than marginally relevant documents, which are in turn more useful than non-relevant documents.\n",
    "\n",
    "For example, if the most relavent document is in the bottom of the result set(ranked), then DCG decreases. Likewise, DCG increases if it's in the higher rank in the result set. \n",
    "\n",
    "$DCG_k=\\sum_{i=1}^k\\frac{2^{rel_i}-1}{\\log_2{\\left(i+1\\right)}}$\n",
    "\n",
    "$nDCG_k=\\frac{DCG_k}{IDCG_k}$\n",
    "\n",
    "${IDCG_k}$ is 1 in most scenarios.\n",
    "\n",
    "where $rel_i$ is the relevance of the result at position $i$ and $k = 5$. "
   ]
  },
  {
   "cell_type": "markdown",
   "metadata": {},
   "source": [
    "**Example 1:**<br>\n",
    "Let us assume for the user \"Roneo\" the ground truth/booking made is **NDF** (No Destination Found). For each new user, we are to make a maximum of 5 predictions from existing 12 countries for the first country of booking.\n",
    "\n",
    "`ground_truth = [0 0 0 0 0 0 0 1 0 0 0 0] = NDF`\n",
    "\n",
    "`predictions =\n",
    "[ 0.0017368   0.00538507  0.07079092  0.00823662  0.03216999  0.00871099\n",
    "  0.01175533  0.61346039  0.00279277  0.0009836   0.20804779  0.03592973]`\n",
    "  \n",
    "The indices of the above sorted predictions is as below:\n",
    "\n",
    "`predictions_indices_order = [ 7 10  2 11  4  6  5  3  1  8  0  9]`\n",
    "\n",
    "Based on above order_of_predictions, selecting top 5 relavent countries and marking the most relevant country as 1, while the rest have relevance = 0.\n",
    "\n",
    "`\n",
    "relavence_scores = [ 1       0       0       0        0]\n",
    "Discounts        = [ 1.00000 1.58496 2.00000 2.32192  2.5849625 ]`\n",
    "\n",
    "From the above relavence scores it is clear that the highest rank country is the ground truth.\n",
    "\n",
    "`final_DCG_Score = 1.0`\n",
    "\n",
    "Calculating for the above example\n",
    "\n",
    "$rel_1 = 2^{1} - 1 = 1$<br> \n",
    "$rel_2 = 2^{0} - 1 = 0$<br>\n",
    "$rel_3 = 2^{0} - 1 = 0$<br>\n",
    "$rel_4 = 2^{0} - 1 = 0$<br>\n",
    "$rel_5 = 2^{0} - 1 = 0$<br>\n",
    "\n",
    "$DCG=\\frac{2^{1}-1}{log_{2}(1+1)}+\\frac{2^{0}-1}{log_{2}(2+1)}+\\frac{2^{0}-1}{log_{2}(3+1)}+\\frac{2^{0}-1}{log_{2}(4+1)}+\\frac{2^{0}-1}{log_{2}(5+1)}=\\frac{1}{1}+\\frac{0}{1.58496}+\\frac{0}{2}+\\frac{0}{2.32192}+\\frac{0}{2.58496}=1$\n",
    "\n",
    "The DCG score of 1 shows that the classifier has given highest probability to the ground truth."
   ]
  },
  {
   "cell_type": "markdown",
   "metadata": {},
   "source": [
    "**Example 2:**<br>\n",
    "Let us assume for the user \"Hary\" the ground truth/booking made is **US** country. For each new user, we are to make a maximum of 5 predictions from existing 12 countries for the first country of booking.\n",
    "\n",
    "`ground_truth = [0 0 0 0 0 0 0 0 0 0 1 0] = US`\n",
    "\n",
    "`predictions =\n",
    "[ 0.00265752  0.0074776   0.03245427  0.01112108  0.03771622  0.01119133\n",
    "  0.0147063   0.49428478  0.00356924  0.00104084  0.33389187  0.04988896]`\n",
    "  \n",
    "The indices of the above sorted predictions is as below:\n",
    "\n",
    "`predictions_indices_order = [ 7 10 11  4  2  6  5  3  1  8  0  9]`\n",
    "\n",
    "Based on above order_of_predictions, selecting top 5 relavent countries and marking the most relevant country as 1, while the rest have relevance = 0.\n",
    "\n",
    "`\n",
    "relavence_scores = [ 0       1       0       0        0]\n",
    "Discounts        = [ 1.00000 1.58496 2.00000 2.32192  2.5849625 ]`\n",
    "\n",
    "From the above relavence scores it is clear that the highest rank country is not the ground truth. Instead the classifier has given 2nd rank to the ground rank. This results in DCG score decrease.\n",
    "\n",
    "`final_DCG_Score = 0.63092`\n",
    "\n",
    "Calculating for the above example\n",
    "\n",
    "$rel_1 = 2^{0} - 1 = 0$<br> \n",
    "$rel_2 = 2^{1} - 1 = 1$<br>\n",
    "$rel_3 = 2^{0} - 1 = 0$<br>\n",
    "$rel_4 = 2^{0} - 1 = 0$<br>\n",
    "$rel_5 = 2^{0} - 1 = 0$<br>\n",
    "\n",
    "$DCG=\\frac{2^{0}-1}{log_{2}(1+1)}+\\frac{2^{1}-1}{log_{2}(2+1)}+\\frac{2^{0}-1}{log_{2}(3+1)}+\\frac{2^{0}-1}{log_{2}(4+1)}+\\frac{2^{0}-1}{log_{2}(5+1)}=\\frac{0}{1}+\\frac{1}{1.58496}+\\frac{0}{2}+\\frac{0}{2.32192}+\\frac{0}{2.58496}=0.63092$\n",
    "\n",
    "The decrease in DCG score to 0.63092 from 1 is because, the classifier has given 2nd rank to the ground rank. This means the classifier has not classfied rightly."
   ]
  },
  {
   "cell_type": "code",
   "execution_count": null,
   "metadata": {},
   "outputs": [],
   "source": []
  }
 ],
 "metadata": {
  "kernelspec": {
   "display_name": "Python 3",
   "language": "python",
   "name": "python3"
  },
  "language_info": {
   "codemirror_mode": {
    "name": "ipython",
    "version": 3
   },
   "file_extension": ".py",
   "mimetype": "text/x-python",
   "name": "python",
   "nbconvert_exporter": "python",
   "pygments_lexer": "ipython3",
   "version": "3.6.4"
  }
 },
 "nbformat": 4,
 "nbformat_minor": 2
}
