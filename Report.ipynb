{
 "cells": [
  {
   "cell_type": "markdown",
   "metadata": {},
   "source": [
    "# Airbnb New User Bookings"
   ]
  },
  {
   "cell_type": "markdown",
   "metadata": {},
   "source": [
    "Sarvesh Prattipati"
   ]
  },
  {
   "cell_type": "markdown",
   "metadata": {},
   "source": [
    "## I. Definition\n",
    "***\n",
    "\n",
    "### Project Overview\n",
    "I stumbled upon this, Airbnb data, as I was looking to work on real world datasets. Airbnb, is an online marketplace where people list, discover, and book accomodations around the world. It has collected various datapoints about users. These data points are from exisiting users and new users, who haven't booked any accomodations yet. These data points help in prediction about its future users to provide them with customized suggestions in the aim to serve Airbnb customers better. This data is posted in Kaggle by Airbnb. Using user data effectively can help organizations increase metrics such as sales, user experience, customer retention and customer satisfaction. \n",
    "\n",
    "\n",
    "### Problem Statement\n",
    "By accurately predicting where a new user will book their first travel experience, Airbnb can share more personalized content with their community, decrease the average time to first booking, and better forecast demand.\n",
    "\n",
    "This data is sourced from Kaggle and includes demographics of users and their session data. The Strategy would be to utilize the data, perform data cleaning, data exploration using visualizations, and testing various algorithms for classification of the result.\n",
    "\n",
    "The result will show the top 5 countries in which a new user can make his first booking through Airbnb.\n",
    "\n",
    "id | country\n",
    "--- | ---\n",
    "5uwns89zht | NDF\n",
    "5uwns89zht | US\n",
    "5uwns89zht | other\n",
    "5uwns89zht | FR\n",
    "5uwns89zht | IT\n",
    "\n",
    "\n",
    "### Datasets and Inputs\n",
    "The dataset is composed of 5 CSV files. It has been obtained from a Kaggle Competition provided by Airbnb.\n",
    "\n",
    "The most important file is the `train_users` file which has 16 columns containing user id, dates of account creation, first booking date, gender, age, signup method, signup app, destination etc along with the target variable `country_destination` and has 213451 rows. The `test_users` is similar to the previous file discussed but does not have our target variable and we have to use these to predict the destination and has 62096 rows. We have a good amount of data to work with to produce meaningful models.\n",
    "\n",
    "The other three files contain web session logs (`sessions.csv`) for the users, summary statistics of destination countries (`countries`) and summary statistics of about the users age group, gender, etc. (`age_gender_bkts.csv`)\n",
    "\n",
    "**File descriptions**\n",
    "- **train_users.csv** - the training set of users\n",
    "- **test_users.csv** - the test set of users\n",
    "    - id: user id\n",
    "    - date_account_created: the date of account creation\n",
    "    - timestamp_first_active: timestamp of the first activity, note that it can be earlier than date_account_created or date_first_booking because a user can search before signing up\n",
    "    - date_first_booking: date of first booking\n",
    "    - gender\n",
    "    - age\n",
    "    - signup_method\n",
    "    - signup_flow: the page a user came to signup up from\n",
    "    - language: international language preference\n",
    "    - affiliate_channel: what kind of paid marketing\n",
    "    - affiliate_provider: where the marketing is e.g. google, craigslist, other\n",
    "    - first_affiliate_tracked: whats the first marketing the user interacted with before the signing up\n",
    "    - signup_app\n",
    "    - first_device_type\n",
    "    - first_browser\n",
    "    - country_destination: this is the target variable you are to predict\n",
    "-**sessions.csv** - web sessions log for users\n",
    "    - user_id: to be joined with the column 'id' in users table\n",
    "    - action\n",
    "    - action_type\n",
    "    - action_detail\n",
    "    - device_type\n",
    "    - secs_elapsed\n",
    "- **countries.csv** - summary statistics of destination countries in this dataset and their locations\n",
    "- **age_gender_bkts.csv** - summary statistics of users' age group, gender, country of destination\n",
    "\n",
    "### Metrics\n",
    "\n",
    "This is a multi-class classification problem. Since ranking of countries in the top 5 predicted matters, the evaluation metric NDCG (Normalized Discounted Cumulative Gain) is utilized for this project.\n",
    "\n",
    "It gives us the measure of ranking quality based on the order of the most relavent document in the result set(ranked). \n",
    "\n",
    "Two assumptions are made in using DCG and its related measures.\n",
    "\n",
    "- Highly relevant documents are more useful when appearing earlier in a search engine result list (have higher ranks)\n",
    "- Highly relevant documents are more useful than marginally relevant documents, which are in turn more useful than non-relevant documents.\n",
    "\n",
    "For example, if the most relavent document is in the bottom of the result set(ranked), then DCG decreases. Likewise, DCG increases if it's in the higher rank in the result set. \n",
    "\n",
    "$DCG_k=\\sum_{i=1}^k\\frac{2^{rel_i}-1}{\\log_2{\\left(i+1\\right)}}$\n",
    "\n",
    "$nDCG_k=\\frac{DCG_k}{IDCG_k}$\n",
    "\n",
    "${IDCG_k}$ is 1 in most scenarios.\n",
    "\n",
    "where $rel_i$ is the relevance of the result at position $i$ and $k = 5$. \n",
    "\n",
    "**Example 1:**<br>\n",
    "Let us assume for the user \"Roneo\" the ground truth/booking made is **NDF** (No Destination Found). For each new user, we are to make a maximum of 5 predictions from existing 12 countries for the first country of booking.\n",
    "\n",
    "`ground_truth = [0 0 0 0 0 0 0 1 0 0 0 0] = NDF`\n",
    "\n",
    "`predictions =\n",
    "[ 0.0017368   0.00538507  0.07079092  0.00823662  0.03216999  0.00871099\n",
    "  0.01175533  0.61346039  0.00279277  0.0009836   0.20804779  0.03592973]`\n",
    "  \n",
    "The indices of the above sorted predictions is as below:\n",
    "\n",
    "`predictions_indices_order = [ 7 10  2 11  4  6  5  3  1  8  0  9]`\n",
    "\n",
    "Based on above order_of_predictions, selecting top 5 relavent countries and marking the most relevant country as 1, while the rest have relevance = 0.\n",
    "\n",
    "`\n",
    "relavence_scores = [ 1       0       0       0        0]\n",
    "Discounts        = [ 1.00000 1.58496 2.00000 2.32192  2.5849625 ]`\n",
    "\n",
    "From the above relavence scores it is clear that the highest rank country is the ground truth.\n",
    "\n",
    "`final_DCG_Score = 1.0`\n",
    "\n",
    "Calculating for the above example\n",
    "\n",
    "$rel_1 = 2^{1} - 1 = 1$<br> \n",
    "$rel_2 = 2^{0} - 1 = 0$<br>\n",
    "$rel_3 = 2^{0} - 1 = 0$<br>\n",
    "$rel_4 = 2^{0} - 1 = 0$<br>\n",
    "$rel_5 = 2^{0} - 1 = 0$<br>\n",
    "\n",
    "$DCG=\\frac{2^{1}-1}{log_{2}(1+1)}+\\frac{2^{0}-1}{log_{2}(2+1)}+\\frac{2^{0}-1}{log_{2}(3+1)}+\\frac{2^{0}-1}{log_{2}(4+1)}+\\frac{2^{0}-1}{log_{2}(5+1)}=\\frac{1}{1}+\\frac{0}{1.58496}+\\frac{0}{2}+\\frac{0}{2.32192}+\\frac{0}{2.58496}=1$\n",
    "\n",
    "The DCG score of 1 shows that the classifier has given highest probability to the ground truth.\n",
    "\n",
    "**Example 2:**<br>\n",
    "Let us assume for the user \"Hary\" the ground truth/booking made is **US** country. For each new user, we are to make a maximum of 5 predictions from existing 12 countries for the first country of booking.\n",
    "\n",
    "`ground_truth = [0 0 0 0 0 0 0 0 0 0 1 0] = US`\n",
    "\n",
    "`predictions =\n",
    "[ 0.00265752  0.0074776   0.03245427  0.01112108  0.03771622  0.01119133\n",
    "  0.0147063   0.49428478  0.00356924  0.00104084  0.33389187  0.04988896]`\n",
    "  \n",
    "The indices of the above sorted predictions is as below:\n",
    "\n",
    "`predictions_indices_order = [ 7 10 11  4  2  6  5  3  1  8  0  9]`\n",
    "\n",
    "Based on above order_of_predictions, selecting top 5 relavent countries and marking the most relevant country as 1, while the rest have relevance = 0.\n",
    "\n",
    "`\n",
    "relavence_scores = [ 0       1       0       0        0]\n",
    "Discounts        = [ 1.00000 1.58496 2.00000 2.32192  2.5849625 ]`\n",
    "\n",
    "From the above relavence scores it is clear that the highest rank country is not the ground truth. Instead the classifier has given 2nd rank to the ground rank. This results in DCG score decrease.\n",
    "\n",
    "`final_DCG_Score = 0.63092`\n",
    "\n",
    "Calculating for the above example\n",
    "\n",
    "$rel_1 = 2^{0} - 1 = 0$<br> \n",
    "$rel_2 = 2^{1} - 1 = 1$<br>\n",
    "$rel_3 = 2^{0} - 1 = 0$<br>\n",
    "$rel_4 = 2^{0} - 1 = 0$<br>\n",
    "$rel_5 = 2^{0} - 1 = 0$<br>\n",
    "\n",
    "$DCG=\\frac{2^{0}-1}{log_{2}(1+1)}+\\frac{2^{1}-1}{log_{2}(2+1)}+\\frac{2^{0}-1}{log_{2}(3+1)}+\\frac{2^{0}-1}{log_{2}(4+1)}+\\frac{2^{0}-1}{log_{2}(5+1)}=\\frac{0}{1}+\\frac{1}{1.58496}+\\frac{0}{2}+\\frac{0}{2.32192}+\\frac{0}{2.58496}=0.63092$\n",
    "\n",
    "The decrease in DCG score to 0.63092 from 1 is because, the classifier has given 2nd rank to the ground rank. This means the classifier has not classfied rightly."
   ]
  },
  {
   "cell_type": "markdown",
   "metadata": {},
   "source": [
    "## II. Analysis\n",
    "_____\n",
    "\n",
    "### Data Exploration\n",
    "\n",
    "The train users data file has 213451 rows, where each rows describes 15 features about the user. The target variable is `country_destination`. "
   ]
  },
  {
   "cell_type": "code",
   "execution_count": 17,
   "metadata": {},
   "outputs": [
    {
     "data": {
      "text/html": [
       "<img src=\"img/Gender_Count.PNG\" width=\"800\" height=\"800\"/>"
      ],
      "text/plain": [
       "<IPython.core.display.Image object>"
      ]
     },
     "execution_count": 17,
     "metadata": {},
     "output_type": "execute_result"
    }
   ],
   "source": [
    "Image(url= \"img/Gender_Count.PNG\", width=800, height=800)"
   ]
  },
  {
   "cell_type": "markdown",
   "metadata": {
    "collapsed": true
   },
   "source": [
    "The above visualization shows us that many of the customers haven't provided their gender. Although we can see interesting counts for male and female, comparitively females have upper hand."
   ]
  },
  {
   "cell_type": "code",
   "execution_count": 18,
   "metadata": {},
   "outputs": [
    {
     "data": {
      "text/html": [
       "<img src=\"img/Countries_Count.PNG\" width=\"800\" height=\"800\"/>"
      ],
      "text/plain": [
       "<IPython.core.display.Image object>"
      ]
     },
     "execution_count": 18,
     "metadata": {},
     "output_type": "execute_result"
    }
   ],
   "source": [
    "Image(url= \"img/Countries_Count.PNG\", width=800, height=800)"
   ]
  },
  {
   "cell_type": "markdown",
   "metadata": {},
   "source": [
    "The above visualization shows us that most of the bookings fall under NDF (No destination found) and US countries. "
   ]
  },
  {
   "cell_type": "markdown",
   "metadata": {},
   "source": [
    "Most of the Exploratory Data Analysis is performed in the file `Stats&EDA.ipynb`. Check out this for related statistics and more visualizations. \n",
    "\n",
    "**Final observations** from the statistics and exploratory data analysis are:\n",
    "\n",
    "- There is a relationship between gender and the first country booked.\n",
    "- There is no relationship between the signup device and signup method.\n",
    "- People don't prefer to travel too long.\n",
    "- Majority of the users prefer countries with different languages, excluding United states. From the 3rd and 4th points it means more likely Americans prefer travelling to European countries, than to english speaking countries like Canada and Australia\n",
    "- The size of the country does not influence the destination country.\n",
    "- Median age of travellers is high in Great Britain, and more younsters travel in spain.\n",
    "- Hungarian and Indonesian's made almost no bookings.\n",
    "- Finnish users made the most bookings.\n",
    "- Mac desktop users have made most of the bookings\n",
    "- Most of the bookings have been made through Airbnb Webapp\n",
    "- Who haven't disclosed their age are less likely to make a booking."
   ]
  },
  {
   "cell_type": "markdown",
   "metadata": {
    "deletable": true,
    "editable": true
   },
   "source": [
    "### Algorithms and Techniques\n",
    "\n",
    "Given that this problem was a multi-class supervised classification problem, Decision Trees are good enough for this project as they can handle numerical and categorical data, missing data, along with multiple target classes. \n",
    "\n",
    "Although decision trees are good, I decided to use ensemble methods like random forest classifier and XGBoost to improve predictive power. \n",
    "\n",
    "**Random Forest** Classifiers fits number of decision trees on subsamples of a dataset and averages the results. \n",
    "\n",
    "**XGBoost** is an optimized gradient boosting library designed to be highly efficient, flexible and portable. It produces an ensemble of weak decision tree learners via additive training (boosting). "
   ]
  },
  {
   "cell_type": "markdown",
   "metadata": {},
   "source": [
    "## III. Methodology"
   ]
  },
  {
   "cell_type": "markdown",
   "metadata": {},
   "source": [
    "### Data Preprocessing\n",
    "\n",
    "- Replacing missing data with -1\n",
    "- Dropping the \"date_first_booking\" column\n",
    "- Removing erroneous ages\n",
    "- Feature Engineering\n",
    "\n",
    "#### date_first_booking\n",
    "\n",
    "It was found that `date_first_booking` feature is not available for the testing dataset. This says that date_first_booking is only available for users who successfully booked a destination and it is implicit that `date_first_booking` would be missing. So, I decided to drop this feature.\n",
    "\n",
    "#### Age\n",
    "\n",
    "The below graph shows that age is less than 15 and greater than 100, which is surprising. So marking as NaN if age<15 and age>100\n"
   ]
  },
  {
   "cell_type": "code",
   "execution_count": 19,
   "metadata": {},
   "outputs": [
    {
     "data": {
      "text/html": [
       "<img src=\"img/Errounous_Age.PNG\" width=\"800\" height=\"800\"/>"
      ],
      "text/plain": [
       "<IPython.core.display.Image object>"
      ]
     },
     "execution_count": 19,
     "metadata": {},
     "output_type": "execute_result"
    }
   ],
   "source": [
    "Image(url= \"img/Errounous_Age.PNG\", width=800, height=800)"
   ]
  },
  {
   "cell_type": "code",
   "execution_count": 20,
   "metadata": {},
   "outputs": [
    {
     "data": {
      "text/html": [
       "<img src=\"img/Age_correction.PNG\" width=\"800\" height=\"800\"/>"
      ],
      "text/plain": [
       "<IPython.core.display.Image object>"
      ]
     },
     "execution_count": 20,
     "metadata": {},
     "output_type": "execute_result"
    }
   ],
   "source": [
    "Image(url= \"img/Age_correction.PNG\", width=800, height=800)"
   ]
  },
  {
   "cell_type": "markdown",
   "metadata": {},
   "source": [
    "The erronous age is now corrected after data cleaning"
   ]
  },
  {
   "cell_type": "markdown",
   "metadata": {},
   "source": [
    "#### Feature Engineering"
   ]
  },
  {
   "cell_type": "markdown",
   "metadata": {},
   "source": [
    "**Date Account Created, Timestamp First Active**\n",
    "\n",
    "The Date Account Created column is split into `dac_y`, `dac_m`, `dac_d`, `dac_wn` (week number), `dac_w_{}` (weekday)\n",
    "\n",
    "Similar treatment was given to the Timestamp First Active with new columns added as `tfa_y`, `tfa_m`, `tfa_d`, `tfa_h` (hour), `tfa_wn` (week number), `tfa_w_{}` (weekday, it was further split into each day).\n",
    "\n",
    "**Season (Engineered feature)**\n",
    "\n",
    "Using the domain knowledge, season of booking can affect the destination choices. For example, people tend to visit cold places or beaches in summer, while the opposite is true in winter.\n",
    "\n",
    "Engineered two new features `season_dac` and `season_tfa`.\n",
    "\n",
    "**One-Hot Encoded features**\n",
    "\n",
    "Other categorical features had to be further one hot encoded. `['gender', 'signup_method', 'signup_flow', 'language', 'affiliate_channel', 'affiliate_provider', 'first_affiliate_tracked', 'signup_app', 'first_device_type', 'first_browser']` were encoded.\n",
    "\n",
    "Feature Engineering ended up with `198` columns after data preprocessing."
   ]
  },
  {
   "cell_type": "markdown",
   "metadata": {},
   "source": [
    "### Implementation"
   ]
  },
  {
   "cell_type": "markdown",
   "metadata": {},
   "source": [
    "#### Random Forest\n",
    "\n",
    "I used sklearns RandomForestClassifier along with Grid Search for cross validation. The parameters used for GridSearch were, `min_samples_split` over `2,20` and `max_depth` over `6,8`. The best estimator is:\n",
    "\n",
    "`RandomForestClassifier(\n",
    "bootstrap=True, class_weight=None, criterion='gini',\n",
    "max_depth=6, max_features='auto', max_leaf_nodes=None,\n",
    "min_impurity_split=1e-07, min_samples_leaf=1,\n",
    "min_samples_split=20, min_weight_fraction_leaf=0.0,\n",
    "n_estimators=25, n_jobs=1, oob_score=False, random_state=101,\n",
    "verbose=0, warm_start=False)`\n",
    "\n",
    "This model was used to predict the test dataset. It got the following scores:\n",
    "- Validation Score: 0.81756"
   ]
  },
  {
   "cell_type": "markdown",
   "metadata": {},
   "source": [
    "#### XGBoost\n",
    "\n",
    "Training the XGBoost over the entire feature set of 198 columns requires computational capability. Due to this limitation feature selection is the best option. Borrowing the best estimator parameters from the above Random Forest like max_depth, the initial XGBoost model is constructed with the below parameters:"
   ]
  },
  {
   "cell_type": "markdown",
   "metadata": {},
   "source": [
    "The data was then trained over `[10,20,30,40]` top features and the maximum validation score was achieved for top 30 features. They were:"
   ]
  },
  {
   "cell_type": "code",
   "execution_count": 21,
   "metadata": {},
   "outputs": [
    {
     "data": {
      "text/html": [
       "<img src=\"img/top_30_features.PNG\" width=\"800\" height=\"800\"/>"
      ],
      "text/plain": [
       "<IPython.core.display.Image object>"
      ]
     },
     "execution_count": 21,
     "metadata": {},
     "output_type": "execute_result"
    }
   ],
   "source": [
    "Image(url= \"img/top_30_features.PNG\", width=800, height=800)"
   ]
  },
  {
   "cell_type": "markdown",
   "metadata": {},
   "source": [
    "Building the model with only these top 30 features and with the below parameters:\n",
    "\n",
    "```\n",
    "params = {'eta': 0.2,\n",
    "          'max_depth': 6,\n",
    "          'subsample': 0.5,\n",
    "          'colsample_bytree': 0.5,\n",
    "          'objective': 'multi:softprob',\n",
    "          'num_class': 12}\n",
    "          \n",
    "```"
   ]
  },
  {
   "cell_type": "markdown",
   "metadata": {},
   "source": [
    "This XGBoost model got the following scores:\n",
    "\n",
    "- Validation Score of 0.81367"
   ]
  },
  {
   "cell_type": "markdown",
   "metadata": {},
   "source": [
    "\n",
    "#### Hyperparameter Tuning\n",
    "\n",
    "Finally, after playing with hyperparameter tuning, I tried the following parameters:\n",
    "\n",
    "```\n",
    "        {\n",
    "        max_depth=7,\n",
    "        learning_rate=0.18,\n",
    "        n_estimators=80,\n",
    "        objective=\"rank:pairwise\",\n",
    "        gamma=0,\n",
    "        min_child_weight=1,\n",
    "        max_delta_step=0,\n",
    "        subsample=1,\n",
    "        colsample_bytree=1,\n",
    "        colsample_bylevel=1,\n",
    "        reg_alpha=0,\n",
    "        reg_lambda=1,\n",
    "        scale_pos_weight=1,\n",
    "        base_score=0.5,\n",
    "        missing=None,\n",
    "        silent=True,\n",
    "        nthread=-1,\n",
    "        seed=111\n",
    "        }\n",
    "```\n",
    "\n",
    "This model achieved:\n",
    "- Validation Score of 0.82384\n",
    "\n",
    "This was more than our previous tests and highest infact, `rank:pairwaise` was concluded to be a good objective for XGBoost."
   ]
  },
  {
   "cell_type": "markdown",
   "metadata": {},
   "source": [
    "**XGBoost Objective functions**\n",
    "- `objective` was set as `multi:softprob` / `multi:softmax` for first instance and then for hyperparameter tuning the objective is set to `rank:pairwise`. "
   ]
  },
  {
   "cell_type": "markdown",
   "metadata": {},
   "source": [
    "## IV. Results"
   ]
  },
  {
   "cell_type": "markdown",
   "metadata": {},
   "source": [
    "Given the most relavent country as 1 and rest of the countries as 0 for a user prediction.\n",
    "\n",
    "The XGBoost validation score of 0.82384, which is close to relavance value 1, is a good NDCG score. It means that the model is able to classify the truth values with the highest ranks 82.3% times."
   ]
  },
  {
   "cell_type": "code",
   "execution_count": 22,
   "metadata": {},
   "outputs": [
    {
     "data": {
      "text/html": [
       "<img src=\"img/results.PNG\" width=\"800\" height=\"800\"/>"
      ],
      "text/plain": [
       "<IPython.core.display.Image object>"
      ]
     },
     "execution_count": 22,
     "metadata": {},
     "output_type": "execute_result"
    }
   ],
   "source": [
    "Image(url= \"img/results.PNG\", width=800, height=800)"
   ]
  },
  {
   "cell_type": "markdown",
   "metadata": {},
   "source": [
    "The visualization tells us that most of the bookings will be made from the US, other, France, and Italy. While, NDF means No Destination Found, Airbnb says that if it is NDF, there wasn't any booking. This is for the same reason the `date_first_booking` values are missing if the destination country is NDF. \n",
    "\n",
    "**This tells us that 5/6th of the customers who are registered into the website have actually made bookings. Only to this 1/6 th of the customers, Airbnb has to focus on sending customized suggestions based on the predictions.**"
   ]
  },
  {
   "cell_type": "markdown",
   "metadata": {},
   "source": [
    "### Business Recommendations\n",
    "\n",
    "So the above top 5 recommendations can be directed to appropiate medium to attrack the new user on their first time booking.\n",
    "\n",
    "1. People use smaller devices to surf the web and desktops to make the booking.  \n",
    "2. Investing more resources into iOS apps can increase the experience to the users and also increase number of bookings.\n",
    "3. Users who have specified their gender and age are more likely to make bookings. The unspecified gender people might just be surfing the Airbnb's.  \n",
    "4. As Hungarian and Indonesian's made almost no bookings, these recommendations can be targeted towards them. So that these users will want to book the Airbnb's."
   ]
  },
  {
   "cell_type": "markdown",
   "metadata": {
    "deletable": true,
    "editable": true
   },
   "source": [
    "### Concluding Remarks\n",
    "\n",
    "##### Learnings\n",
    "\n",
    "Mainly, I learnt when and how to utilize the NDCG (Normalized Discounted Cumulative Gain) evaluation metric. I have also learned to perform feature engineering on real datasets, pickle the processed data, hyper parameter tuning on XGBoost, and finally extract information from the visualizations. "
   ]
  },
  {
   "cell_type": "markdown",
   "metadata": {},
   "source": [
    "#### Limitations\n",
    "Mainly my computational capability. The sessions.csv is feature engineered but cannot be merged on with the initial 198 feature to form a complete feature set for this project. "
   ]
  },
  {
   "cell_type": "code",
   "execution_count": null,
   "metadata": {
    "collapsed": true
   },
   "outputs": [],
   "source": [
    ""
   ]
  }
 ],
 "metadata": {
  "kernelspec": {
   "display_name": "Python 3",
   "language": "python",
   "name": "python3"
  },
  "language_info": {
   "codemirror_mode": {
    "name": "ipython",
    "version": 3.0
   },
   "file_extension": ".py",
   "mimetype": "text/x-python",
   "name": "python",
   "nbconvert_exporter": "python",
   "pygments_lexer": "ipython3",
   "version": "3.6.4"
  }
 },
 "nbformat": 4,
 "nbformat_minor": 0
}